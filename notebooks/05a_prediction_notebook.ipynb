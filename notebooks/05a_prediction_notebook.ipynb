{
 "cells": [
  {
   "cell_type": "code",
   "execution_count": null,
   "id": "7e82c1ad-f7a5-4fed-bbde-d7714cfdda26",
   "metadata": {},
   "outputs": [],
   "source": [
    "LOG_DATA_PKL    =  \"data.pkl\"\n",
    "LOG_MODEL_PKL   =  \"model.pkl\"\n",
    "\n",
    "TRACKING_URI = \"...\\notebooks\\mlruns\"  # track file on lab\n",
    "EXPERIMENT_ID = \"1\"\n",
    "RUN_ID = \"4c35a9c9d26a48e8bfccfae05a63d348\" #of model"
   ]
  },
  {
   "cell_type": "code",
   "execution_count": null,
   "id": "347e1278-538d-4fd2-8917-99337c82ea8a",
   "metadata": {},
   "outputs": [],
   "source": [
    "import os \n",
    "import sklearn\n",
    "import pickle\n",
    "import yaml\n",
    "\n",
    "import pandas as pd\n",
    "\n",
    "import mlflow\n",
    "from mlflow.tracking import MlflowClient"
   ]
  },
  {
   "cell_type": "markdown",
   "id": "67972cbc-cd8c-41be-8f28-1df474636446",
   "metadata": {},
   "source": [
    "## load model"
   ]
  },
  {
   "cell_type": "code",
   "execution_count": null,
   "id": "c38b6fa9-f84b-4199-8ac6-4fbce96bbac4",
   "metadata": {},
   "outputs": [],
   "source": [
    "artifact_path = os.path.join(TRACKING_URI.replace(\"file://\", \"\"), \n",
    "                             EXPERIMENT_ID, \n",
    "                             RUN_ID, \n",
    "                             'artifacts')"
   ]
  },
  {
   "cell_type": "code",
   "execution_count": null,
   "id": "5c3fe7d7-3ad7-4b75-bc2b-13f71774b262",
   "metadata": {},
   "outputs": [],
   "source": [
    "# Load data pkl\n",
    "data_path  = os.path.join(artifact_path, LOG_DATA_PKL)\n",
    "with open(data_path, 'rb') as handle:\n",
    "    data_pkl = pickle.load(handle)"
   ]
  },
  {
   "cell_type": "code",
   "execution_count": null,
   "id": "41a8c453-33a0-40c0-baff-201b6f3d3c95",
   "metadata": {},
   "outputs": [],
   "source": [
    "# Load model pkl\n",
    "model_path = os.path.join(artifact_path, LOG_MODEL_PKL)\n",
    "with open(model_path, 'rb') as handle:\n",
    "    model_pkl = pickle.load(handle)\n",
    "\n",
    "model = model_pkl[\"model_object\"]"
   ]
  }
 ],
 "metadata": {
  "kernelspec": {
   "display_name": "Python 3",
   "language": "python",
   "name": "python3"
  },
  "language_info": {
   "codemirror_mode": {
    "name": "ipython",
    "version": 3
   },
   "file_extension": ".py",
   "mimetype": "text/x-python",
   "name": "python",
   "nbconvert_exporter": "python",
   "pygments_lexer": "ipython3",
   "version": "3.8.8"
  }
 },
 "nbformat": 4,
 "nbformat_minor": 5
}
