{
 "cells": [
  {
   "cell_type": "code",
   "execution_count": 1,
   "id": "1cade231-d043-4faa-96e0-a92215cd6dc2",
   "metadata": {},
   "outputs": [],
   "source": [
    "DF_PATH       = \"../data/processed/2_cleaned_data.pkl\"\n",
    "\n",
    "ROLE_COLS      = ['DevType']\n",
    "TECH_COLS      = ['LanguageWorkedWith',    'DatabaseWorkedWith',    'WebframeWorkedWith',    'MiscTechWorkedWith']\n",
    "\n",
    "EXPERIMENT_NAME = \"stackoverflow_single_model\"\n",
    "LOG_PATH = \"../models/temp/baseline/\"\n",
    "LOG_DATA_PKL    =  \"data.pkl\"\n",
    "LOG_MODEL_PKL   =  \"model.pkl\"\n",
    "LOG_METRICS_PKL =  \"metrics.pkl\""
   ]
  },
  {
   "cell_type": "code",
   "execution_count": 2,
   "id": "456a085a-ffa3-426a-a325-abe421912db5",
   "metadata": {},
   "outputs": [],
   "source": [
    "# Load packages\n",
    "import pandas as pd \n",
    "import numpy as np\n",
    "import logging\n",
    "import pickle\n",
    "import random\n",
    "import plotly \n",
    "import os\n",
    "\n",
    "import mlflow\n",
    "from mlflow.tracking import MlflowClient\n",
    "\n",
    "from sklearn.preprocessing import MultiLabelBinarizer\n",
    "from sklearn.preprocessing import StandardScaler, RobustScaler, MinMaxScaler\n",
    "from sklearn.pipeline import make_pipeline, FeatureUnion\n",
    "from sklearn.feature_selection import VarianceThreshold\n",
    "from sklearn.multioutput import MultiOutputClassifier\n",
    "from sklearn.model_selection import train_test_split\n",
    "from sklearn.model_selection import GridSearchCV\n",
    "\n",
    "from sklearn import metrics\n",
    "from sklearn.metrics import auc, accuracy_score, confusion_matrix, f1_score, precision_score, recall_score\n",
    "\n",
    "from sklearn.decomposition import PCA, KernelPCA\n",
    "\n",
    "from sklearn import tree\n",
    "from sklearn.linear_model import LogisticRegression\n",
    "from sklearn.ensemble import AdaBoostClassifier\n",
    "from sklearn.ensemble import RandomForestClassifier\n",
    "from sklearn.neighbors import KNeighborsClassifier\n",
    "\n",
    "from matplotlib import pyplot as plt"
   ]
  },
  {
   "cell_type": "code",
   "execution_count": 3,
   "id": "f409e5af-7642-404a-9333-07601f8aad22",
   "metadata": {},
   "outputs": [],
   "source": [
    "# Read Data \n",
    "df = pd.read_pickle(DF_PATH)"
   ]
  },
  {
   "cell_type": "markdown",
   "id": "d7734055-bacb-4c18-9a79-fd5e1665ca80",
   "metadata": {},
   "source": [
    "### Functions"
   ]
  },
  {
   "cell_type": "code",
   "execution_count": 4,
   "id": "34609305-4a97-4b25-93d5-05f934604b1b",
   "metadata": {},
   "outputs": [],
   "source": [
    "def calculate_quality(ground_truth, prediction, metric_function, sort_values=False):\n",
    "    quality_scores = {}\n",
    "    for col in predictions.columns:\n",
    "        role_pred  = predictions[col].copy()\n",
    "        role_truth = ground_truth[col].copy()\n",
    "        quality_scores[col] = round(metric_function(role_truth, role_pred) * 100, 2)\n",
    "        \n",
    "    quality_scores = pd.Series(quality_scores.values(), index=quality_scores.keys())\n",
    "    if sort_values:\n",
    "        quality_scores = quality_scores.sort_values()\n",
    "    \n",
    "    return quality_scores"
   ]
  },
  {
   "cell_type": "markdown",
   "id": "7f932af3-6245-4cf8-bc40-6ced8138dfec",
   "metadata": {},
   "source": [
    "## Balance classes"
   ]
  },
  {
   "cell_type": "code",
   "execution_count": 5,
   "id": "f2bd67e2-f962-4b6a-ba8e-cabc5e72cfc8",
   "metadata": {},
   "outputs": [
    {
     "data": {
      "text/plain": [
       "Academic researcher                               581\n",
       "Data or business analyst                          669\n",
       "Data scientist or machine learning specialist     799\n",
       "Database administrator                            296\n",
       "DevOps specialist                                 677\n",
       "Developer, QA or test                             493\n",
       "Developer, back-end                              5503\n",
       "Developer, desktop or enterprise applications    1671\n",
       "Developer, embedded applications or devices       795\n",
       "Developer, front-end                             2890\n",
       "Developer, full-stack                            5578\n",
       "Developer, game or graphics                       342\n",
       "Developer, mobile                                1859\n",
       "Engineer, data                                    483\n",
       "Scientist                                         292\n",
       "System administrator                              440\n",
       "dtype: int64"
      ]
     },
     "execution_count": 5,
     "metadata": {},
     "output_type": "execute_result"
    }
   ],
   "source": [
    "# Check the total samples of roles\n",
    "roles_df = df[\"DevType\"].copy()\n",
    "role_sum = df[\"DevType\"].sum(axis=0)\n",
    "role_sum"
   ]
  },
  {
   "cell_type": "code",
   "execution_count": 6,
   "id": "2e7696ff-e42b-4834-bb4c-72ae370b1601",
   "metadata": {},
   "outputs": [],
   "source": [
    "# Resample roles\n",
    "samples_per_class = 500\n",
    "resampled_roles = []\n",
    "\n",
    "for role_col in roles_df.columns:\n",
    "    sub_df = roles_df.loc[roles_df[role_col] == 1].copy()\n",
    "    \n",
    "    if len(sub_df) < samples_per_class:\n",
    "        # Upsample\n",
    "        sub_df = sub_df.sample(samples_per_class, replace=True, random_state=0)\n",
    "    else:\n",
    "        # Downsample\n",
    "        sub_df = sub_df.sample(samples_per_class, random_state=0) \n",
    "    \n",
    "    resampled_roles.append(sub_df)"
   ]
  },
  {
   "cell_type": "code",
   "execution_count": 7,
   "id": "b8659924-6393-4e00-a405-1fd1afa5cdcf",
   "metadata": {},
   "outputs": [],
   "source": [
    "# Construct dfs\n",
    "roles_df  = pd.concat(resampled_roles)\n",
    "df = df.loc[roles_df.index]"
   ]
  },
  {
   "cell_type": "code",
   "execution_count": 8,
   "id": "7ac209dd-1e7f-460d-be14-99d356ea518b",
   "metadata": {},
   "outputs": [
    {
     "data": {
      "text/plain": [
       "Academic researcher                               797\n",
       "Data or business analyst                          767\n",
       "Data scientist or machine learning specialist     871\n",
       "Database administrator                            588\n",
       "DevOps specialist                                 705\n",
       "Developer, QA or test                             590\n",
       "Developer, back-end                              1770\n",
       "Developer, desktop or enterprise applications     892\n",
       "Developer, embedded applications or devices       666\n",
       "Developer, front-end                              893\n",
       "Developer, full-stack                            1431\n",
       "Developer, game or graphics                       560\n",
       "Developer, mobile                                 800\n",
       "Engineer, data                                    631\n",
       "Scientist                                         642\n",
       "System administrator                              647\n",
       "dtype: int64"
      ]
     },
     "execution_count": 8,
     "metadata": {},
     "output_type": "execute_result"
    }
   ],
   "source": [
    "roles_df.sum(axis=0)"
   ]
  },
  {
   "cell_type": "markdown",
   "id": "76cba7f8-3bf5-4a56-8584-5d494f52a768",
   "metadata": {},
   "source": [
    "## Prep"
   ]
  },
  {
   "cell_type": "code",
   "execution_count": 9,
   "id": "89e26307-9fb1-48e0-852c-1d23fbff8815",
   "metadata": {},
   "outputs": [
    {
     "name": "stderr",
     "output_type": "stream",
     "text": [
      "C:\\Users\\Omnia Hosny\\anaconda3\\lib\\site-packages\\pandas\\core\\generic.py:4153: PerformanceWarning: dropping on a non-lexsorted multi-index without a level parameter may impact performance.\n",
      "  obj = obj._drop_axis(labels, axis, level=level, errors=errors)\n"
     ]
    }
   ],
   "source": [
    "X_train, X_test, Y_train, Y_test = train_test_split(df.drop(\"DevType\", axis=1), \n",
    "                                                    df[\"DevType\"], \n",
    "                                                    random_state=0)"
   ]
  },
  {
   "cell_type": "code",
   "execution_count": 10,
   "id": "8ccaac2a-d7f1-4c1f-89b6-83b6e166f7ad",
   "metadata": {},
   "outputs": [
    {
     "data": {
      "text/plain": [
       "(6000, 91)"
      ]
     },
     "execution_count": 10,
     "metadata": {},
     "output_type": "execute_result"
    }
   ],
   "source": [
    "X_train.shape"
   ]
  },
  {
   "cell_type": "markdown",
   "id": "b7f153d1-2697-45f0-85ba-c6fcb64c01ae",
   "metadata": {},
   "source": [
    "## Train models"
   ]
  },
  {
   "cell_type": "markdown",
   "id": "06a8f95b-f95a-4f12-aed3-3694ae5b5bdf",
   "metadata": {},
   "source": [
    "## Initialize MLflow"
   ]
  },
  {
   "cell_type": "code",
   "execution_count": 11,
   "id": "1052810a-4475-4fa5-a201-f32f2b9b3da2",
   "metadata": {},
   "outputs": [],
   "source": [
    "# Initialize client and experiment\n",
    "\n",
    "client = MlflowClient()\n",
    "mlflow.set_experiment(EXPERIMENT_NAME)\n",
    "exp = client.get_experiment_by_name(EXPERIMENT_NAME)"
   ]
  },
  {
   "cell_type": "markdown",
   "id": "0871a2a1-34b1-4b60-893e-5d39cfa835f9",
   "metadata": {},
   "source": [
    "## 1. Logistic regression"
   ]
  },
  {
   "cell_type": "code",
   "execution_count": 12,
   "id": "4516b62e-5d20-4199-982b-747fccf2a102",
   "metadata": {},
   "outputs": [],
   "source": [
    "clf = make_pipeline(StandardScaler(), \n",
    "                    MultiOutputClassifier(LogisticRegression()))\n",
    "\n",
    "clf.fit(X_train, Y_train)\n",
    "predictions =  pd.DataFrame(clf.predict(X_train), columns=Y_train.columns)"
   ]
  },
  {
   "cell_type": "code",
   "execution_count": 13,
   "id": "074bc482-0fbc-44e1-9eec-c70c5593c0e4",
   "metadata": {},
   "outputs": [],
   "source": [
    "# Evaluate on training set\n",
    "predictions =  pd.DataFrame(clf.predict(X_train), columns=Y_train.columns)\n",
    "train_scores = {score.__name__: calculate_quality(Y_train, predictions, score) \n",
    "                for score in [accuracy_score, precision_score, recall_score, f1_score]}\n",
    "train_scores = pd.concat(train_scores,axis=1)"
   ]
  },
  {
   "cell_type": "code",
   "execution_count": 14,
   "id": "5ba5acbe-00ff-479a-a4dc-6882d570ac1e",
   "metadata": {},
   "outputs": [],
   "source": [
    "# Evaluate on test set\n",
    "predictions =  pd.DataFrame(clf.predict(X_test), columns=Y_test.columns)\n",
    "test_scores = {score.__name__: calculate_quality(Y_test, predictions, score) \n",
    "                for score in [accuracy_score, precision_score, recall_score, f1_score]}\n",
    "test_scores = pd.concat(test_scores,axis=1)\n",
    "mean_test_scores = test_scores.mean()"
   ]
  },
  {
   "cell_type": "code",
   "execution_count": 15,
   "id": "7fa3377a-d243-4b27-b03f-fa93d460f0d8",
   "metadata": {},
   "outputs": [
    {
     "name": "stdout",
     "output_type": "stream",
     "text": [
      "accuracy_score     91.190625\n",
      "precision_score    65.601250\n",
      "recall_score       28.439375\n",
      "f1_score           37.190625\n",
      "dtype: float64\n"
     ]
    },
    {
     "data": {
      "text/html": [
       "<div>\n",
       "<style scoped>\n",
       "    .dataframe tbody tr th:only-of-type {\n",
       "        vertical-align: middle;\n",
       "    }\n",
       "\n",
       "    .dataframe tbody tr th {\n",
       "        vertical-align: top;\n",
       "    }\n",
       "\n",
       "    .dataframe thead th {\n",
       "        text-align: right;\n",
       "    }\n",
       "</style>\n",
       "<table border=\"1\" class=\"dataframe\">\n",
       "  <thead>\n",
       "    <tr style=\"text-align: right;\">\n",
       "      <th></th>\n",
       "      <th>accuracy_score</th>\n",
       "      <th>precision_score</th>\n",
       "      <th>recall_score</th>\n",
       "      <th>f1_score</th>\n",
       "    </tr>\n",
       "  </thead>\n",
       "  <tbody>\n",
       "    <tr>\n",
       "      <th>Developer, QA or test</th>\n",
       "      <td>92.10</td>\n",
       "      <td>100.00</td>\n",
       "      <td>2.47</td>\n",
       "      <td>4.82</td>\n",
       "    </tr>\n",
       "    <tr>\n",
       "      <th>Database administrator</th>\n",
       "      <td>92.60</td>\n",
       "      <td>39.13</td>\n",
       "      <td>6.29</td>\n",
       "      <td>10.84</td>\n",
       "    </tr>\n",
       "    <tr>\n",
       "      <th>Developer, desktop or enterprise applications</th>\n",
       "      <td>89.35</td>\n",
       "      <td>55.56</td>\n",
       "      <td>11.47</td>\n",
       "      <td>19.01</td>\n",
       "    </tr>\n",
       "    <tr>\n",
       "      <th>Scientist</th>\n",
       "      <td>92.65</td>\n",
       "      <td>52.78</td>\n",
       "      <td>12.75</td>\n",
       "      <td>20.54</td>\n",
       "    </tr>\n",
       "    <tr>\n",
       "      <th>Academic researcher</th>\n",
       "      <td>90.25</td>\n",
       "      <td>62.00</td>\n",
       "      <td>14.98</td>\n",
       "      <td>24.12</td>\n",
       "    </tr>\n",
       "    <tr>\n",
       "      <th>System administrator</th>\n",
       "      <td>91.85</td>\n",
       "      <td>56.00</td>\n",
       "      <td>16.57</td>\n",
       "      <td>25.57</td>\n",
       "    </tr>\n",
       "    <tr>\n",
       "      <th>Engineer, data</th>\n",
       "      <td>92.85</td>\n",
       "      <td>69.39</td>\n",
       "      <td>20.99</td>\n",
       "      <td>32.23</td>\n",
       "    </tr>\n",
       "    <tr>\n",
       "      <th>Developer, embedded applications or devices</th>\n",
       "      <td>92.45</td>\n",
       "      <td>57.47</td>\n",
       "      <td>30.49</td>\n",
       "      <td>39.84</td>\n",
       "    </tr>\n",
       "    <tr>\n",
       "      <th>Developer, full-stack</th>\n",
       "      <td>84.50</td>\n",
       "      <td>63.13</td>\n",
       "      <td>31.65</td>\n",
       "      <td>42.16</td>\n",
       "    </tr>\n",
       "    <tr>\n",
       "      <th>Developer, back-end</th>\n",
       "      <td>80.55</td>\n",
       "      <td>61.45</td>\n",
       "      <td>34.30</td>\n",
       "      <td>44.03</td>\n",
       "    </tr>\n",
       "    <tr>\n",
       "      <th>Data or business analyst</th>\n",
       "      <td>92.95</td>\n",
       "      <td>69.41</td>\n",
       "      <td>33.91</td>\n",
       "      <td>45.56</td>\n",
       "    </tr>\n",
       "    <tr>\n",
       "      <th>DevOps specialist</th>\n",
       "      <td>93.00</td>\n",
       "      <td>72.29</td>\n",
       "      <td>33.90</td>\n",
       "      <td>46.15</td>\n",
       "    </tr>\n",
       "    <tr>\n",
       "      <th>Developer, front-end</th>\n",
       "      <td>91.70</td>\n",
       "      <td>63.51</td>\n",
       "      <td>45.63</td>\n",
       "      <td>53.11</td>\n",
       "    </tr>\n",
       "    <tr>\n",
       "      <th>Data scientist or machine learning specialist</th>\n",
       "      <td>92.00</td>\n",
       "      <td>63.86</td>\n",
       "      <td>51.46</td>\n",
       "      <td>56.99</td>\n",
       "    </tr>\n",
       "    <tr>\n",
       "      <th>Developer, game or graphics</th>\n",
       "      <td>95.55</td>\n",
       "      <td>78.31</td>\n",
       "      <td>47.79</td>\n",
       "      <td>59.36</td>\n",
       "    </tr>\n",
       "    <tr>\n",
       "      <th>Developer, mobile</th>\n",
       "      <td>94.70</td>\n",
       "      <td>85.33</td>\n",
       "      <td>60.38</td>\n",
       "      <td>70.72</td>\n",
       "    </tr>\n",
       "  </tbody>\n",
       "</table>\n",
       "</div>"
      ],
      "text/plain": [
       "                                               accuracy_score  \\\n",
       "Developer, QA or test                                   92.10   \n",
       "Database administrator                                  92.60   \n",
       "Developer, desktop or enterprise applications           89.35   \n",
       "Scientist                                               92.65   \n",
       "Academic researcher                                     90.25   \n",
       "System administrator                                    91.85   \n",
       "Engineer, data                                          92.85   \n",
       "Developer, embedded applications or devices             92.45   \n",
       "Developer, full-stack                                   84.50   \n",
       "Developer, back-end                                     80.55   \n",
       "Data or business analyst                                92.95   \n",
       "DevOps specialist                                       93.00   \n",
       "Developer, front-end                                    91.70   \n",
       "Data scientist or machine learning specialist           92.00   \n",
       "Developer, game or graphics                             95.55   \n",
       "Developer, mobile                                       94.70   \n",
       "\n",
       "                                               precision_score  recall_score  \\\n",
       "Developer, QA or test                                   100.00          2.47   \n",
       "Database administrator                                   39.13          6.29   \n",
       "Developer, desktop or enterprise applications            55.56         11.47   \n",
       "Scientist                                                52.78         12.75   \n",
       "Academic researcher                                      62.00         14.98   \n",
       "System administrator                                     56.00         16.57   \n",
       "Engineer, data                                           69.39         20.99   \n",
       "Developer, embedded applications or devices              57.47         30.49   \n",
       "Developer, full-stack                                    63.13         31.65   \n",
       "Developer, back-end                                      61.45         34.30   \n",
       "Data or business analyst                                 69.41         33.91   \n",
       "DevOps specialist                                        72.29         33.90   \n",
       "Developer, front-end                                     63.51         45.63   \n",
       "Data scientist or machine learning specialist            63.86         51.46   \n",
       "Developer, game or graphics                              78.31         47.79   \n",
       "Developer, mobile                                        85.33         60.38   \n",
       "\n",
       "                                               f1_score  \n",
       "Developer, QA or test                              4.82  \n",
       "Database administrator                            10.84  \n",
       "Developer, desktop or enterprise applications     19.01  \n",
       "Scientist                                         20.54  \n",
       "Academic researcher                               24.12  \n",
       "System administrator                              25.57  \n",
       "Engineer, data                                    32.23  \n",
       "Developer, embedded applications or devices       39.84  \n",
       "Developer, full-stack                             42.16  \n",
       "Developer, back-end                               44.03  \n",
       "Data or business analyst                          45.56  \n",
       "DevOps specialist                                 46.15  \n",
       "Developer, front-end                              53.11  \n",
       "Data scientist or machine learning specialist     56.99  \n",
       "Developer, game or graphics                       59.36  \n",
       "Developer, mobile                                 70.72  "
      ]
     },
     "execution_count": 15,
     "metadata": {},
     "output_type": "execute_result"
    }
   ],
   "source": [
    "print(mean_test_scores)\n",
    "test_scores.sort_values(\"f1_score\")"
   ]
  },
  {
   "cell_type": "markdown",
   "id": "59050866-ffad-4342-8782-dceb1b672ea4",
   "metadata": {},
   "source": [
    "## Log"
   ]
  },
  {
   "cell_type": "code",
   "execution_count": 16,
   "id": "1bc3741c-390b-4588-9b08-7c60d286517d",
   "metadata": {},
   "outputs": [],
   "source": [
    "# Data details\n",
    "data_details = {\"data_path\": DF_PATH,\n",
    "                \"training_indices\": X_train.index.tolist(),\n",
    "                \"test_indices\":     X_test.index.tolist(), \n",
    "                \"features_names\":   X_train.columns.droplevel(0).tolist(),\n",
    "                \"targets_names\":    Y_train.columns.tolist()}\n",
    "\n",
    "with open(os.path.join(LOG_PATH, LOG_DATA_PKL), \"wb\") as output_file:\n",
    "    pickle.dump(data_details, output_file)"
   ]
  },
  {
   "cell_type": "code",
   "execution_count": 17,
   "id": "4fa4dc16-e61f-4e4d-9335-0bcd6d607be6",
   "metadata": {},
   "outputs": [],
   "source": [
    "# Model\n",
    "model = {\"model_description\": \"Baseline model: Logistic Regression \",\n",
    "         \"model_details\": str(clf),\n",
    "         \"model_object\": clf} \n",
    "\n",
    "with open(os.path.join(LOG_PATH, LOG_MODEL_PKL), \"wb\") as output_file:\n",
    "    pickle.dump(model, output_file)"
   ]
  },
  {
   "cell_type": "code",
   "execution_count": 18,
   "id": "03d9dbe8-516a-47dd-b085-2e16a69faa15",
   "metadata": {},
   "outputs": [],
   "source": [
    "# Preformance details\n",
    "classes_metrics = {\"train_scores\": train_scores, \n",
    "                   \"test_scores\":  test_scores}\n",
    "\n",
    "with open(os.path.join(LOG_PATH, LOG_METRICS_PKL), \"wb\") as output_file:\n",
    "    pickle.dump(classes_metrics, output_file)"
   ]
  },
  {
   "cell_type": "code",
   "execution_count": 19,
   "id": "e06088b3-a9a2-458e-a727-0e4a98a6adc6",
   "metadata": {},
   "outputs": [],
   "source": [
    "# Start a new run and track \n",
    "with mlflow.start_run(experiment_id=exp.experiment_id, run_name=model[\"model_description\"]):\n",
    "    # Log pickles \n",
    "    mlflow.log_artifacts(LOG_PATH)\n",
    "    \n",
    "    # Track metrics \n",
    "    for metric, score in mean_test_scores.items():\n",
    "        mlflow.log_metric(metric, score) "
   ]
  },
  {
   "cell_type": "code",
   "execution_count": null,
   "id": "39be3101-0137-4406-8c0b-7cb16e956390",
   "metadata": {},
   "outputs": [],
   "source": []
  },
  {
   "cell_type": "code",
   "execution_count": null,
   "id": "45b5dbde-6bdc-4303-aa19-e25dc83e8c60",
   "metadata": {},
   "outputs": [],
   "source": []
  },
  {
   "cell_type": "code",
   "execution_count": null,
   "id": "012c96c0-9dde-4ada-a7b8-1e9ea36c585c",
   "metadata": {},
   "outputs": [],
   "source": []
  }
 ],
 "metadata": {
  "kernelspec": {
   "display_name": "Python 3",
   "language": "python",
   "name": "python3"
  },
  "language_info": {
   "codemirror_mode": {
    "name": "ipython",
    "version": 3
   },
   "file_extension": ".py",
   "mimetype": "text/x-python",
   "name": "python",
   "nbconvert_exporter": "python",
   "pygments_lexer": "ipython3",
   "version": "3.8.8"
  }
 },
 "nbformat": 4,
 "nbformat_minor": 5
}
