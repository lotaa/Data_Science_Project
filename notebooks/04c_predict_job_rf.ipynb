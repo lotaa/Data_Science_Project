{
 "cells": [
  {
   "cell_type": "code",
   "execution_count": 1,
   "id": "4afb9502-46f4-41a5-8727-d7e4cb40f484",
   "metadata": {},
   "outputs": [],
   "source": [
    "DF_PATH       = \"../data/processed/2_cleaned_data.pkl\"\n",
    "\n",
    "ROLE_COLS      = ['DevType']\n",
    "TECH_COLS      = ['LanguageWorkedWith',    'DatabaseWorkedWith',    'WebframeWorkedWith',    'MiscTechWorkedWith']\n",
    "\n",
    "EXPERIMENT_NAME = \"stackoverflow_single_model\"\n",
    "LOG_PATH = \"../models/temp/random_forest/\"\n",
    "LOG_DATA_PKL    =  \"data.pkl\"\n",
    "LOG_MODEL_PKL   =  \"model.pkl\"\n",
    "LOG_METRICS_PKL =  \"metrics.pkl\""
   ]
  },
  {
   "cell_type": "code",
   "execution_count": 2,
   "id": "56bf48dc-6374-446e-9441-ef2dd30e45c7",
   "metadata": {},
   "outputs": [],
   "source": [
    "# Load packages\n",
    "import pandas as pd \n",
    "import numpy as np\n",
    "import logging\n",
    "import pickle\n",
    "import random\n",
    "import plotly \n",
    "import os\n",
    "\n",
    "import mlflow\n",
    "from mlflow.tracking import MlflowClient\n",
    "\n",
    "from sklearn.preprocessing import MultiLabelBinarizer\n",
    "from sklearn.preprocessing import StandardScaler, RobustScaler, MinMaxScaler\n",
    "from sklearn.pipeline import make_pipeline, FeatureUnion\n",
    "from sklearn.feature_selection import VarianceThreshold\n",
    "from sklearn.multioutput import MultiOutputClassifier\n",
    "from sklearn.model_selection import train_test_split\n",
    "from sklearn.model_selection import GridSearchCV\n",
    "\n",
    "from sklearn import metrics\n",
    "from sklearn.metrics import auc, accuracy_score, confusion_matrix, f1_score, precision_score, recall_score\n",
    "\n",
    "from sklearn.decomposition import PCA, KernelPCA\n",
    "\n",
    "from sklearn import tree\n",
    "from sklearn.linear_model import LogisticRegression\n",
    "from sklearn.ensemble import AdaBoostClassifier\n",
    "from sklearn.ensemble import RandomForestClassifier\n",
    "from sklearn.neighbors import KNeighborsClassifier\n",
    "\n",
    "from matplotlib import pyplot as plt"
   ]
  },
  {
   "cell_type": "markdown",
   "id": "170ecfcc-fe93-48ca-bb85-871b7ebca9d7",
   "metadata": {},
   "source": [
    "## Read data"
   ]
  },
  {
   "cell_type": "code",
   "execution_count": 3,
   "id": "d3d31995-46bd-4add-ab72-c679cac18a53",
   "metadata": {},
   "outputs": [],
   "source": [
    "# Read Data \n",
    "df = pd.read_pickle(DF_PATH)"
   ]
  },
  {
   "cell_type": "markdown",
   "id": "23c61aa8-c96c-4e59-b30c-102106c4a650",
   "metadata": {},
   "source": [
    "## Functions"
   ]
  },
  {
   "cell_type": "code",
   "execution_count": 4,
   "id": "c0d6b93e-a292-4b7d-b115-778cd442b51a",
   "metadata": {},
   "outputs": [],
   "source": [
    "def calculate_quality(ground_truth, prediction, metric_function, sort_values=False):\n",
    "    quality_scores = {}\n",
    "    for col in predictions.columns:\n",
    "        role_pred  = predictions[col].copy()\n",
    "        role_truth = ground_truth[col].copy()\n",
    "        quality_scores[col] = round(metric_function(role_truth, role_pred) * 100, 2)\n",
    "        \n",
    "    quality_scores = pd.Series(quality_scores.values(), index=quality_scores.keys())\n",
    "    if sort_values:\n",
    "        quality_scores = quality_scores.sort_values()\n",
    "    \n",
    "    return quality_scores\n"
   ]
  },
  {
   "cell_type": "markdown",
   "id": "cf2aa4f2-84de-4a7d-828d-396d3ddf785e",
   "metadata": {},
   "source": [
    "## Balance classes"
   ]
  },
  {
   "cell_type": "code",
   "execution_count": 5,
   "id": "c96c72d9-5809-4ea0-a4ee-511d7bf4f521",
   "metadata": {},
   "outputs": [
    {
     "data": {
      "text/plain": [
       "Academic researcher                               581\n",
       "Data or business analyst                          669\n",
       "Data scientist or machine learning specialist     799\n",
       "Database administrator                            296\n",
       "DevOps specialist                                 677\n",
       "Developer, QA or test                             493\n",
       "Developer, back-end                              5503\n",
       "Developer, desktop or enterprise applications    1671\n",
       "Developer, embedded applications or devices       795\n",
       "Developer, front-end                             2890\n",
       "Developer, full-stack                            5578\n",
       "Developer, game or graphics                       342\n",
       "Developer, mobile                                1859\n",
       "Engineer, data                                    483\n",
       "Scientist                                         292\n",
       "System administrator                              440\n",
       "dtype: int64"
      ]
     },
     "execution_count": 5,
     "metadata": {},
     "output_type": "execute_result"
    }
   ],
   "source": [
    "# Check the total samples of roles\n",
    "roles_df = df[\"DevType\"].copy()\n",
    "role_sum = df[\"DevType\"].sum(axis=0)\n",
    "role_sum"
   ]
  },
  {
   "cell_type": "code",
   "execution_count": 6,
   "id": "3a0cb06a-aa4f-4be7-b638-e11777eeb7ba",
   "metadata": {},
   "outputs": [],
   "source": [
    "# Resample roles\n",
    "samples_per_class = 500 \n",
    "resampled_roles = []\n",
    "\n",
    "for role_col in roles_df.columns:\n",
    "    sub_df = roles_df.loc[roles_df[role_col] == 1].copy()\n",
    "    \n",
    "    if len(sub_df) < samples_per_class:\n",
    "        # Upsample(bootstrap sampling with replacement)\n",
    "        sub_df = sub_df.sample(samples_per_class, replace=True, random_state=0)\n",
    "    else:\n",
    "        # Downsample (selection from population)\n",
    "        sub_df = sub_df.sample(samples_per_class, random_state=0) \n",
    "    \n",
    "    resampled_roles.append(sub_df)"
   ]
  },
  {
   "cell_type": "code",
   "execution_count": 7,
   "id": "f52c4bcd-5364-4840-bc63-ce5a51779fc4",
   "metadata": {},
   "outputs": [],
   "source": [
    "# Construct dfs\n",
    "roles_df  = pd.concat(resampled_roles)\n",
    "df = df.loc[roles_df.index]"
   ]
  },
  {
   "cell_type": "code",
   "execution_count": 8,
   "id": "f1cd8f79-4107-455f-8e9e-48b5d128fbe9",
   "metadata": {},
   "outputs": [
    {
     "data": {
      "text/plain": [
       "Academic researcher                               797\n",
       "Data or business analyst                          767\n",
       "Data scientist or machine learning specialist     871\n",
       "Database administrator                            588\n",
       "DevOps specialist                                 705\n",
       "Developer, QA or test                             590\n",
       "Developer, back-end                              1770\n",
       "Developer, desktop or enterprise applications     892\n",
       "Developer, embedded applications or devices       666\n",
       "Developer, front-end                              893\n",
       "Developer, full-stack                            1431\n",
       "Developer, game or graphics                       560\n",
       "Developer, mobile                                 800\n",
       "Engineer, data                                    631\n",
       "Scientist                                         642\n",
       "System administrator                              647\n",
       "dtype: int64"
      ]
     },
     "execution_count": 8,
     "metadata": {},
     "output_type": "execute_result"
    }
   ],
   "source": [
    "#it will be greater than 500 because the row contains two answers\n",
    "roles_df.sum(axis=0) "
   ]
  },
  {
   "cell_type": "markdown",
   "id": "6491f185-474c-4d4a-95cc-ce7f9cfdc125",
   "metadata": {},
   "source": [
    "## Prep"
   ]
  },
  {
   "cell_type": "code",
   "execution_count": 9,
   "id": "2faf18ec-8ec1-49e3-bb8b-c492d88085aa",
   "metadata": {},
   "outputs": [
    {
     "name": "stderr",
     "output_type": "stream",
     "text": [
      "C:\\Users\\Omnia Hosny\\anaconda3\\lib\\site-packages\\pandas\\core\\generic.py:4153: PerformanceWarning: dropping on a non-lexsorted multi-index without a level parameter may impact performance.\n",
      "  obj = obj._drop_axis(labels, axis, level=level, errors=errors)\n"
     ]
    }
   ],
   "source": [
    "X_train, X_test, Y_train, Y_test = train_test_split(df.drop(\"DevType\", axis=1), \n",
    "                                                    df[\"DevType\"], \n",
    "                                                    random_state=0)"
   ]
  },
  {
   "cell_type": "code",
   "execution_count": 10,
   "id": "1bdf0a1f-333b-41f4-8b4e-24d5f94ec41d",
   "metadata": {},
   "outputs": [
    {
     "data": {
      "text/plain": [
       "(6000, 91)"
      ]
     },
     "execution_count": 10,
     "metadata": {},
     "output_type": "execute_result"
    }
   ],
   "source": [
    "X_train.shape"
   ]
  },
  {
   "cell_type": "markdown",
   "id": "3f735906-f3ab-47a0-8701-4f276fcc8ffd",
   "metadata": {},
   "source": [
    "## Train models"
   ]
  },
  {
   "cell_type": "code",
   "execution_count": 11,
   "id": "5404559c-2d74-48f9-9181-9ab7040b1045",
   "metadata": {},
   "outputs": [],
   "source": [
    "# Initialize client and experiment\n",
    "client = MlflowClient()\n",
    "mlflow.set_experiment(EXPERIMENT_NAME)\n",
    "exp = client.get_experiment_by_name(EXPERIMENT_NAME)"
   ]
  },
  {
   "cell_type": "markdown",
   "id": "f327aada-1ef9-4e9f-bdc5-462a89fba636",
   "metadata": {},
   "source": [
    "## 1. Vanilla Forest"
   ]
  },
  {
   "cell_type": "code",
   "execution_count": 12,
   "id": "657a27fa-89d2-4290-b01b-f94e6d9af8af",
   "metadata": {},
   "outputs": [
    {
     "data": {
      "text/plain": [
       "Pipeline(steps=[('standardscaler', StandardScaler()),\n",
       "                ('randomforestclassifier',\n",
       "                 RandomForestClassifier(random_state=0))])"
      ]
     },
     "execution_count": 12,
     "metadata": {},
     "output_type": "execute_result"
    }
   ],
   "source": [
    "rf_clf = make_pipeline(StandardScaler(),\n",
    "                       RandomForestClassifier(random_state=0))\n",
    "\n",
    "rf_clf.fit(X_train, Y_train)"
   ]
  },
  {
   "cell_type": "code",
   "execution_count": 13,
   "id": "32d5b19d-a4c8-4d7a-bdd8-55a828011730",
   "metadata": {},
   "outputs": [],
   "source": [
    "# Evaluate on train set\n",
    "predictions =  pd.DataFrame(rf_clf.predict(X_train), columns=Y_train.columns)\n",
    "train_scores = {score.__name__: calculate_quality(Y_train, predictions, score) \n",
    "                for score in [accuracy_score, precision_score, recall_score, f1_score]}\n",
    "train_scores = pd.concat(train_scores,axis=1)"
   ]
  },
  {
   "cell_type": "code",
   "execution_count": 14,
   "id": "88b6c3b5-59c1-48ad-a93e-1eb80d568aa4",
   "metadata": {},
   "outputs": [],
   "source": [
    "# Evaluate on test set\n",
    "predictions =  pd.DataFrame(rf_clf.predict(X_test), columns=Y_test.columns)\n",
    "test_scores = {score.__name__: calculate_quality(Y_test, predictions, score) \n",
    "                for score in [accuracy_score, precision_score, recall_score, f1_score]}\n",
    "test_scores = pd.concat(test_scores,axis=1)\n",
    "mean_test_scores = test_scores.mean()"
   ]
  },
  {
   "cell_type": "code",
   "execution_count": 15,
   "id": "e3c0af39-a21b-4179-9fb6-7fb79a2f763c",
   "metadata": {},
   "outputs": [
    {
     "name": "stdout",
     "output_type": "stream",
     "text": [
      "accuracy_score     94.196875\n",
      "precision_score    83.858750\n",
      "recall_score       57.422500\n",
      "f1_score           67.671250\n",
      "dtype: float64\n"
     ]
    },
    {
     "data": {
      "text/html": [
       "<div>\n",
       "<style scoped>\n",
       "    .dataframe tbody tr th:only-of-type {\n",
       "        vertical-align: middle;\n",
       "    }\n",
       "\n",
       "    .dataframe tbody tr th {\n",
       "        vertical-align: top;\n",
       "    }\n",
       "\n",
       "    .dataframe thead th {\n",
       "        text-align: right;\n",
       "    }\n",
       "</style>\n",
       "<table border=\"1\" class=\"dataframe\">\n",
       "  <thead>\n",
       "    <tr style=\"text-align: right;\">\n",
       "      <th></th>\n",
       "      <th>accuracy_score</th>\n",
       "      <th>precision_score</th>\n",
       "      <th>recall_score</th>\n",
       "      <th>f1_score</th>\n",
       "    </tr>\n",
       "  </thead>\n",
       "  <tbody>\n",
       "    <tr>\n",
       "      <th>Developer, full-stack</th>\n",
       "      <td>86.50</td>\n",
       "      <td>70.42</td>\n",
       "      <td>42.02</td>\n",
       "      <td>52.63</td>\n",
       "    </tr>\n",
       "    <tr>\n",
       "      <th>Developer, desktop or enterprise applications</th>\n",
       "      <td>90.95</td>\n",
       "      <td>70.79</td>\n",
       "      <td>28.90</td>\n",
       "      <td>41.04</td>\n",
       "    </tr>\n",
       "    <tr>\n",
       "      <th>Developer, embedded applications or devices</th>\n",
       "      <td>94.30</td>\n",
       "      <td>73.15</td>\n",
       "      <td>48.17</td>\n",
       "      <td>58.09</td>\n",
       "    </tr>\n",
       "    <tr>\n",
       "      <th>Developer, front-end</th>\n",
       "      <td>93.30</td>\n",
       "      <td>74.00</td>\n",
       "      <td>53.88</td>\n",
       "      <td>62.36</td>\n",
       "    </tr>\n",
       "    <tr>\n",
       "      <th>Developer, back-end</th>\n",
       "      <td>85.20</td>\n",
       "      <td>79.07</td>\n",
       "      <td>45.74</td>\n",
       "      <td>57.95</td>\n",
       "    </tr>\n",
       "    <tr>\n",
       "      <th>Data scientist or machine learning specialist</th>\n",
       "      <td>95.30</td>\n",
       "      <td>81.82</td>\n",
       "      <td>69.90</td>\n",
       "      <td>75.39</td>\n",
       "    </tr>\n",
       "    <tr>\n",
       "      <th>Data or business analyst</th>\n",
       "      <td>95.10</td>\n",
       "      <td>83.33</td>\n",
       "      <td>54.60</td>\n",
       "      <td>65.97</td>\n",
       "    </tr>\n",
       "    <tr>\n",
       "      <th>Academic researcher</th>\n",
       "      <td>94.05</td>\n",
       "      <td>83.85</td>\n",
       "      <td>52.66</td>\n",
       "      <td>64.69</td>\n",
       "    </tr>\n",
       "    <tr>\n",
       "      <th>Database administrator</th>\n",
       "      <td>97.10</td>\n",
       "      <td>84.00</td>\n",
       "      <td>73.43</td>\n",
       "      <td>78.36</td>\n",
       "    </tr>\n",
       "    <tr>\n",
       "      <th>Scientist</th>\n",
       "      <td>97.15</td>\n",
       "      <td>88.98</td>\n",
       "      <td>70.47</td>\n",
       "      <td>78.65</td>\n",
       "    </tr>\n",
       "    <tr>\n",
       "      <th>Engineer, data</th>\n",
       "      <td>96.60</td>\n",
       "      <td>89.83</td>\n",
       "      <td>65.43</td>\n",
       "      <td>75.71</td>\n",
       "    </tr>\n",
       "    <tr>\n",
       "      <th>DevOps specialist</th>\n",
       "      <td>95.15</td>\n",
       "      <td>90.00</td>\n",
       "      <td>50.85</td>\n",
       "      <td>64.98</td>\n",
       "    </tr>\n",
       "    <tr>\n",
       "      <th>System administrator</th>\n",
       "      <td>96.50</td>\n",
       "      <td>91.60</td>\n",
       "      <td>64.50</td>\n",
       "      <td>75.69</td>\n",
       "    </tr>\n",
       "    <tr>\n",
       "      <th>Developer, mobile</th>\n",
       "      <td>95.55</td>\n",
       "      <td>93.01</td>\n",
       "      <td>62.74</td>\n",
       "      <td>74.93</td>\n",
       "    </tr>\n",
       "    <tr>\n",
       "      <th>Developer, game or graphics</th>\n",
       "      <td>98.15</td>\n",
       "      <td>93.04</td>\n",
       "      <td>78.68</td>\n",
       "      <td>85.26</td>\n",
       "    </tr>\n",
       "    <tr>\n",
       "      <th>Developer, QA or test</th>\n",
       "      <td>96.25</td>\n",
       "      <td>94.85</td>\n",
       "      <td>56.79</td>\n",
       "      <td>71.04</td>\n",
       "    </tr>\n",
       "  </tbody>\n",
       "</table>\n",
       "</div>"
      ],
      "text/plain": [
       "                                               accuracy_score  \\\n",
       "Developer, full-stack                                   86.50   \n",
       "Developer, desktop or enterprise applications           90.95   \n",
       "Developer, embedded applications or devices             94.30   \n",
       "Developer, front-end                                    93.30   \n",
       "Developer, back-end                                     85.20   \n",
       "Data scientist or machine learning specialist           95.30   \n",
       "Data or business analyst                                95.10   \n",
       "Academic researcher                                     94.05   \n",
       "Database administrator                                  97.10   \n",
       "Scientist                                               97.15   \n",
       "Engineer, data                                          96.60   \n",
       "DevOps specialist                                       95.15   \n",
       "System administrator                                    96.50   \n",
       "Developer, mobile                                       95.55   \n",
       "Developer, game or graphics                             98.15   \n",
       "Developer, QA or test                                   96.25   \n",
       "\n",
       "                                               precision_score  recall_score  \\\n",
       "Developer, full-stack                                    70.42         42.02   \n",
       "Developer, desktop or enterprise applications            70.79         28.90   \n",
       "Developer, embedded applications or devices              73.15         48.17   \n",
       "Developer, front-end                                     74.00         53.88   \n",
       "Developer, back-end                                      79.07         45.74   \n",
       "Data scientist or machine learning specialist            81.82         69.90   \n",
       "Data or business analyst                                 83.33         54.60   \n",
       "Academic researcher                                      83.85         52.66   \n",
       "Database administrator                                   84.00         73.43   \n",
       "Scientist                                                88.98         70.47   \n",
       "Engineer, data                                           89.83         65.43   \n",
       "DevOps specialist                                        90.00         50.85   \n",
       "System administrator                                     91.60         64.50   \n",
       "Developer, mobile                                        93.01         62.74   \n",
       "Developer, game or graphics                              93.04         78.68   \n",
       "Developer, QA or test                                    94.85         56.79   \n",
       "\n",
       "                                               f1_score  \n",
       "Developer, full-stack                             52.63  \n",
       "Developer, desktop or enterprise applications     41.04  \n",
       "Developer, embedded applications or devices       58.09  \n",
       "Developer, front-end                              62.36  \n",
       "Developer, back-end                               57.95  \n",
       "Data scientist or machine learning specialist     75.39  \n",
       "Data or business analyst                          65.97  \n",
       "Academic researcher                               64.69  \n",
       "Database administrator                            78.36  \n",
       "Scientist                                         78.65  \n",
       "Engineer, data                                    75.71  \n",
       "DevOps specialist                                 64.98  \n",
       "System administrator                              75.69  \n",
       "Developer, mobile                                 74.93  \n",
       "Developer, game or graphics                       85.26  \n",
       "Developer, QA or test                             71.04  "
      ]
     },
     "execution_count": 15,
     "metadata": {},
     "output_type": "execute_result"
    }
   ],
   "source": [
    "print(test_scores.mean())\n",
    "test_scores.sort_values(\"precision_score\")"
   ]
  },
  {
   "cell_type": "markdown",
   "id": "685d3d6c-73bd-4fcf-8cae-4c598af6bca8",
   "metadata": {},
   "source": [
    "## Log"
   ]
  },
  {
   "cell_type": "code",
   "execution_count": 16,
   "id": "da9914ff-c33e-4ba8-b42f-ef8d64151fae",
   "metadata": {},
   "outputs": [],
   "source": [
    "# Data details\n",
    "data_details = {\"data_path\": DF_PATH,\n",
    "                \"training_indices\": X_train.index.tolist(),\n",
    "                \"test_indices\":     X_test.index.tolist(), \n",
    "                \"features_names\":   X_train.columns.droplevel(0).tolist(),\n",
    "                \"targets_names\":    Y_train.columns.tolist()}\n",
    "\n",
    "with open(os.path.join(LOG_PATH, LOG_DATA_PKL), \"wb\") as output_file:\n",
    "    pickle.dump(data_details, output_file)"
   ]
  },
  {
   "cell_type": "code",
   "execution_count": 17,
   "id": "ee8fe6df-3dec-4032-91e5-0a3dc1bf29de",
   "metadata": {},
   "outputs": [],
   "source": [
    "# Model\n",
    "model = {\"model_description\": \"Random Forest: with non linearity\",\n",
    "         \"model_details\": str(rf_clf),\n",
    "         \"model_object\": rf_clf} \n",
    "\n",
    "with open(os.path.join(LOG_PATH, LOG_MODEL_PKL), \"wb\") as output_file:\n",
    "    pickle.dump(model, output_file)"
   ]
  },
  {
   "cell_type": "code",
   "execution_count": 18,
   "id": "d2328701-9929-489f-a273-dd797a880a23",
   "metadata": {},
   "outputs": [],
   "source": [
    "# Preformance details\n",
    "classes_metrics = {\"train_scores\": train_scores, \n",
    "                   \"test_scores\":  test_scores}\n",
    "\n",
    "with open(os.path.join(LOG_PATH, LOG_METRICS_PKL), \"wb\") as output_file:\n",
    "    pickle.dump(classes_metrics, output_file)"
   ]
  },
  {
   "cell_type": "code",
   "execution_count": 19,
   "id": "62b111f9-31b4-4dd9-8c44-57ecf3e380ee",
   "metadata": {},
   "outputs": [],
   "source": [
    "# Start a new run and track \n",
    "with mlflow.start_run(experiment_id=exp.experiment_id, \n",
    "                      run_name=model[\"model_description\"]):\n",
    "    # Log pickles\n",
    "    mlflow.log_artifacts(LOG_PATH)  \n",
    "    \n",
    "    # Track metrics \n",
    "    for metric, score in mean_test_scores.items():\n",
    "        mlflow.log_metric(metric, score) \n",
    "    "
   ]
  },
  {
   "cell_type": "markdown",
   "id": "da5fe4ca-1bb8-4153-b28c-e8bbe6c5a018",
   "metadata": {},
   "source": [
    "## 2. Random Forest with Non-linearity"
   ]
  },
  {
   "cell_type": "code",
   "execution_count": 20,
   "id": "d77f6b1a-e644-41ab-aeed-f902701a43ee",
   "metadata": {},
   "outputs": [
    {
     "data": {
      "text/plain": [
       "Pipeline(steps=[('standardscaler', StandardScaler()),\n",
       "                ('featureunion',\n",
       "                 FeatureUnion(transformer_list=[('linear_pca',\n",
       "                                                 PCA(n_components=40)),\n",
       "                                                ('kernel_pca',\n",
       "                                                 KernelPCA(kernel='rbf',\n",
       "                                                           n_components=40))])),\n",
       "                ('randomforestclassifier',\n",
       "                 RandomForestClassifier(random_state=0))])"
      ]
     },
     "execution_count": 20,
     "metadata": {},
     "output_type": "execute_result"
    }
   ],
   "source": [
    "rf_clf = make_pipeline(StandardScaler(), \n",
    "                       FeatureUnion([('linear_pca', PCA(n_components=40)), \n",
    "                                      ('kernel_pca', KernelPCA(n_components=40, \n",
    "                                                               kernel='rbf'))]),\n",
    "                       RandomForestClassifier(random_state=0))\n",
    "\n",
    "rf_clf.fit(X_train, Y_train)"
   ]
  },
  {
   "cell_type": "code",
   "execution_count": 21,
   "id": "61c79e3f-fb53-4be6-bdcd-8c07a5a5326a",
   "metadata": {},
   "outputs": [],
   "source": [
    "# Evaluate on train set\n",
    "predictions =  pd.DataFrame(rf_clf.predict(X_train), columns=Y_train.columns)\n",
    "train_scores = {score.__name__: calculate_quality(Y_train, predictions, score) \n",
    "                for score in [accuracy_score, precision_score, recall_score, f1_score]}\n",
    "train_scores = pd.concat(train_scores,axis=1)"
   ]
  },
  {
   "cell_type": "code",
   "execution_count": 22,
   "id": "2c07b21d-939d-4182-8a90-be53a661770e",
   "metadata": {},
   "outputs": [],
   "source": [
    "# Evaluate on test set\n",
    "predictions =  pd.DataFrame(rf_clf.predict(X_test), columns=Y_test.columns)\n",
    "test_scores = {score.__name__: calculate_quality(Y_test, predictions, score) \n",
    "                for score in [accuracy_score, precision_score, recall_score, f1_score]}\n",
    "test_scores = pd.concat(test_scores,axis=1)\n",
    "mean_test_scores = test_scores.mean()"
   ]
  },
  {
   "cell_type": "code",
   "execution_count": 23,
   "id": "ee80e03d-8f96-4ba6-b66b-0b17ee1f28c6",
   "metadata": {},
   "outputs": [
    {
     "name": "stdout",
     "output_type": "stream",
     "text": [
      "accuracy_score     94.193750\n",
      "precision_score    87.710000\n",
      "recall_score       54.523125\n",
      "f1_score           66.478125\n",
      "dtype: float64\n"
     ]
    },
    {
     "data": {
      "text/html": [
       "<div>\n",
       "<style scoped>\n",
       "    .dataframe tbody tr th:only-of-type {\n",
       "        vertical-align: middle;\n",
       "    }\n",
       "\n",
       "    .dataframe tbody tr th {\n",
       "        vertical-align: top;\n",
       "    }\n",
       "\n",
       "    .dataframe thead th {\n",
       "        text-align: right;\n",
       "    }\n",
       "</style>\n",
       "<table border=\"1\" class=\"dataframe\">\n",
       "  <thead>\n",
       "    <tr style=\"text-align: right;\">\n",
       "      <th></th>\n",
       "      <th>accuracy_score</th>\n",
       "      <th>precision_score</th>\n",
       "      <th>recall_score</th>\n",
       "      <th>f1_score</th>\n",
       "    </tr>\n",
       "  </thead>\n",
       "  <tbody>\n",
       "    <tr>\n",
       "      <th>Developer, desktop or enterprise applications</th>\n",
       "      <td>91.70</td>\n",
       "      <td>90.62</td>\n",
       "      <td>26.61</td>\n",
       "      <td>41.13</td>\n",
       "    </tr>\n",
       "    <tr>\n",
       "      <th>Developer, full-stack</th>\n",
       "      <td>86.50</td>\n",
       "      <td>73.26</td>\n",
       "      <td>38.38</td>\n",
       "      <td>50.37</td>\n",
       "    </tr>\n",
       "    <tr>\n",
       "      <th>Developer, embedded applications or devices</th>\n",
       "      <td>94.20</td>\n",
       "      <td>76.67</td>\n",
       "      <td>42.07</td>\n",
       "      <td>54.33</td>\n",
       "    </tr>\n",
       "    <tr>\n",
       "      <th>Developer, back-end</th>\n",
       "      <td>84.15</td>\n",
       "      <td>74.52</td>\n",
       "      <td>43.95</td>\n",
       "      <td>55.29</td>\n",
       "    </tr>\n",
       "    <tr>\n",
       "      <th>Developer, front-end</th>\n",
       "      <td>93.60</td>\n",
       "      <td>81.97</td>\n",
       "      <td>48.54</td>\n",
       "      <td>60.98</td>\n",
       "    </tr>\n",
       "    <tr>\n",
       "      <th>Academic researcher</th>\n",
       "      <td>94.00</td>\n",
       "      <td>91.43</td>\n",
       "      <td>46.38</td>\n",
       "      <td>61.54</td>\n",
       "    </tr>\n",
       "    <tr>\n",
       "      <th>DevOps specialist</th>\n",
       "      <td>95.00</td>\n",
       "      <td>92.31</td>\n",
       "      <td>47.46</td>\n",
       "      <td>62.69</td>\n",
       "    </tr>\n",
       "    <tr>\n",
       "      <th>Data or business analyst</th>\n",
       "      <td>95.25</td>\n",
       "      <td>87.62</td>\n",
       "      <td>52.87</td>\n",
       "      <td>65.95</td>\n",
       "    </tr>\n",
       "    <tr>\n",
       "      <th>Developer, QA or test</th>\n",
       "      <td>96.20</td>\n",
       "      <td>95.74</td>\n",
       "      <td>55.56</td>\n",
       "      <td>70.31</td>\n",
       "    </tr>\n",
       "    <tr>\n",
       "      <th>Data scientist or machine learning specialist</th>\n",
       "      <td>95.10</td>\n",
       "      <td>86.00</td>\n",
       "      <td>62.62</td>\n",
       "      <td>72.47</td>\n",
       "    </tr>\n",
       "    <tr>\n",
       "      <th>Engineer, data</th>\n",
       "      <td>96.55</td>\n",
       "      <td>90.43</td>\n",
       "      <td>64.20</td>\n",
       "      <td>75.09</td>\n",
       "    </tr>\n",
       "    <tr>\n",
       "      <th>Developer, mobile</th>\n",
       "      <td>95.65</td>\n",
       "      <td>94.33</td>\n",
       "      <td>62.74</td>\n",
       "      <td>75.35</td>\n",
       "    </tr>\n",
       "    <tr>\n",
       "      <th>System administrator</th>\n",
       "      <td>96.60</td>\n",
       "      <td>95.50</td>\n",
       "      <td>62.72</td>\n",
       "      <td>75.71</td>\n",
       "    </tr>\n",
       "    <tr>\n",
       "      <th>Database administrator</th>\n",
       "      <td>97.35</td>\n",
       "      <td>88.14</td>\n",
       "      <td>72.73</td>\n",
       "      <td>79.69</td>\n",
       "    </tr>\n",
       "    <tr>\n",
       "      <th>Scientist</th>\n",
       "      <td>97.35</td>\n",
       "      <td>92.86</td>\n",
       "      <td>69.80</td>\n",
       "      <td>79.69</td>\n",
       "    </tr>\n",
       "    <tr>\n",
       "      <th>Developer, game or graphics</th>\n",
       "      <td>97.90</td>\n",
       "      <td>91.96</td>\n",
       "      <td>75.74</td>\n",
       "      <td>83.06</td>\n",
       "    </tr>\n",
       "  </tbody>\n",
       "</table>\n",
       "</div>"
      ],
      "text/plain": [
       "                                               accuracy_score  \\\n",
       "Developer, desktop or enterprise applications           91.70   \n",
       "Developer, full-stack                                   86.50   \n",
       "Developer, embedded applications or devices             94.20   \n",
       "Developer, back-end                                     84.15   \n",
       "Developer, front-end                                    93.60   \n",
       "Academic researcher                                     94.00   \n",
       "DevOps specialist                                       95.00   \n",
       "Data or business analyst                                95.25   \n",
       "Developer, QA or test                                   96.20   \n",
       "Data scientist or machine learning specialist           95.10   \n",
       "Engineer, data                                          96.55   \n",
       "Developer, mobile                                       95.65   \n",
       "System administrator                                    96.60   \n",
       "Database administrator                                  97.35   \n",
       "Scientist                                               97.35   \n",
       "Developer, game or graphics                             97.90   \n",
       "\n",
       "                                               precision_score  recall_score  \\\n",
       "Developer, desktop or enterprise applications            90.62         26.61   \n",
       "Developer, full-stack                                    73.26         38.38   \n",
       "Developer, embedded applications or devices              76.67         42.07   \n",
       "Developer, back-end                                      74.52         43.95   \n",
       "Developer, front-end                                     81.97         48.54   \n",
       "Academic researcher                                      91.43         46.38   \n",
       "DevOps specialist                                        92.31         47.46   \n",
       "Data or business analyst                                 87.62         52.87   \n",
       "Developer, QA or test                                    95.74         55.56   \n",
       "Data scientist or machine learning specialist            86.00         62.62   \n",
       "Engineer, data                                           90.43         64.20   \n",
       "Developer, mobile                                        94.33         62.74   \n",
       "System administrator                                     95.50         62.72   \n",
       "Database administrator                                   88.14         72.73   \n",
       "Scientist                                                92.86         69.80   \n",
       "Developer, game or graphics                              91.96         75.74   \n",
       "\n",
       "                                               f1_score  \n",
       "Developer, desktop or enterprise applications     41.13  \n",
       "Developer, full-stack                             50.37  \n",
       "Developer, embedded applications or devices       54.33  \n",
       "Developer, back-end                               55.29  \n",
       "Developer, front-end                              60.98  \n",
       "Academic researcher                               61.54  \n",
       "DevOps specialist                                 62.69  \n",
       "Data or business analyst                          65.95  \n",
       "Developer, QA or test                             70.31  \n",
       "Data scientist or machine learning specialist     72.47  \n",
       "Engineer, data                                    75.09  \n",
       "Developer, mobile                                 75.35  \n",
       "System administrator                              75.71  \n",
       "Database administrator                            79.69  \n",
       "Scientist                                         79.69  \n",
       "Developer, game or graphics                       83.06  "
      ]
     },
     "execution_count": 23,
     "metadata": {},
     "output_type": "execute_result"
    }
   ],
   "source": [
    "print(mean_test_scores)\n",
    "test_scores.sort_values(\"f1_score\")"
   ]
  },
  {
   "cell_type": "code",
   "execution_count": 24,
   "id": "1ccd50a4-9ff8-4a1b-a67d-1346841fd0b3",
   "metadata": {},
   "outputs": [],
   "source": [
    "# Data details\n",
    "data_details = {\"data_path\": DF_PATH,\n",
    "                \"training_indices\": X_train.index.tolist(),\n",
    "                \"test_indices\":     X_test.index.tolist(), \n",
    "                \"features_names\":   X_train.columns.droplevel(0).tolist(),\n",
    "                \"targets_names\":    Y_train.columns.tolist()}\n",
    "\n",
    "with open(os.path.join(LOG_PATH, LOG_DATA_PKL), \"wb\") as output_file:\n",
    "    pickle.dump(data_details, output_file)"
   ]
  },
  {
   "cell_type": "code",
   "execution_count": 25,
   "id": "54634081-845e-43e1-8861-77c8fa17a553",
   "metadata": {},
   "outputs": [],
   "source": [
    "# Model\n",
    "model = {\"model_description\": \"Random Forest: with PCAs + RBF kernel\",\n",
    "         \"model_details\": str(rf_clf),\n",
    "         \"model_object\": rf_clf} \n",
    "\n",
    "with open(os.path.join(LOG_PATH, LOG_MODEL_PKL), \"wb\") as output_file:\n",
    "    pickle.dump(model, output_file)"
   ]
  },
  {
   "cell_type": "code",
   "execution_count": 26,
   "id": "32ad06d7-57ed-4e1d-bbe2-1ecc0d6e71ad",
   "metadata": {},
   "outputs": [],
   "source": [
    "# Preformance details\n",
    "classes_metrics = {\"train_scores\": train_scores, \n",
    "                   \"test_scores\":  test_scores}\n",
    "\n",
    "with open(os.path.join(LOG_PATH, LOG_METRICS_PKL), \"wb\") as output_file:\n",
    "    pickle.dump(classes_metrics, output_file)"
   ]
  },
  {
   "cell_type": "code",
   "execution_count": 27,
   "id": "e36d8a20-4c62-4302-bb60-5fd1794279b9",
   "metadata": {},
   "outputs": [],
   "source": [
    "# Start a new run and track \n",
    "with mlflow.start_run(experiment_id=exp.experiment_id, \n",
    "                      run_name=model[\"model_description\"]):\n",
    "    # Log pickles\n",
    "    mlflow.log_artifacts(LOG_PATH)  \n",
    "    \n",
    "    # Track metrics \n",
    "    for metric, score in mean_test_scores.items():\n",
    "        mlflow.log_metric(metric, score) "
   ]
  },
  {
   "cell_type": "markdown",
   "id": "afe4c768-1ee9-4549-acdd-500327b94540",
   "metadata": {},
   "source": [
    "## 2. Random Forest with PCAs & Hyper parameter tuning"
   ]
  },
  {
   "cell_type": "code",
   "execution_count": 28,
   "id": "5a0acf36-175b-4a4f-95e1-9c29a8fdb1c5",
   "metadata": {},
   "outputs": [],
   "source": [
    "hpt_rf_clf = make_pipeline(StandardScaler(), \n",
    "                           FeatureUnion([('linear_pca', PCA()), \n",
    "                                         ('kernel_pca', KernelPCA(kernel='rbf'))]),\n",
    "                           RandomForestClassifier(random_state=0, ))"
   ]
  },
  {
   "cell_type": "code",
   "execution_count": null,
   "id": "d9122497-549e-4a79-92e9-2876c6504eaf",
   "metadata": {},
   "outputs": [],
   "source": [
    "# list(hpt_rf_clf.get_params().keys())\n",
    "tuned_parameters = [{'featureunion__linear_pca__n_components': [5, 10, 20, 40, 60], \n",
    "                     'featureunion__kernel_pca__n_components': [5, 10, 20, 40, 60],\n",
    "                     'randomforestclassifier__n_estimators':   [100, 500, 1000]}]\n",
    "hpt_rf_clf = GridSearchCV(hpt_rf_clf, \n",
    "                          tuned_parameters, \n",
    "                          n_jobs=-1)\n",
    "\n",
    "hpt_rf_clf.fit(X_train, Y_train)"
   ]
  },
  {
   "cell_type": "code",
   "execution_count": null,
   "id": "17371677-6bc4-48af-a47a-b2a5e7e389a3",
   "metadata": {},
   "outputs": [],
   "source": [
    "hpt_rf_clf.best_params_"
   ]
  },
  {
   "cell_type": "code",
   "execution_count": null,
   "id": "79a5052f-9fc4-4bee-aa7d-7be7b48e3f09",
   "metadata": {},
   "outputs": [],
   "source": [
    "# Evaluate on test set\n",
    "predictions =  pd.DataFrame(hpt_rf_clf.predict(X_test), columns=Y_test.columns)\n",
    "test_scores = {score.__name__: calculate_quality(Y_test, predictions, score) \n",
    "                for score in [accuracy_score, precision_score, recall_score, f1_score]}\n",
    "test_scores = pd.concat(test_scores,axis=1)\n",
    "print(test_scores.mean())\n",
    "test_scores.sort_values(\"f1_score\")"
   ]
  },
  {
   "cell_type": "markdown",
   "id": "b60f2edc-0946-41a4-b084-73be817c9abb",
   "metadata": {},
   "source": [
    "## Log"
   ]
  },
  {
   "cell_type": "code",
   "execution_count": null,
   "id": "a97fea32-02c4-4233-a196-6da2cfaa63a6",
   "metadata": {},
   "outputs": [],
   "source": [
    "# Data details\n",
    "data_details = {\"data_path\": DF_PATH,\n",
    "                \"training_indices\": X_train.index.tolist(),\n",
    "                \"test_indices\":     X_test.index.tolist(), \n",
    "                \"features_names\":   X_train.columns.droplevel(0).tolist(),\n",
    "                \"targets_names\":    Y_train.columns.tolist()}\n",
    "\n",
    "with open(os.path.join(LOG_PATH, LOG_DATA_PKL), \"wb\") as output_file:\n",
    "    pickle.dump(data_details, output_file)"
   ]
  },
  {
   "cell_type": "code",
   "execution_count": null,
   "id": "10c9741d-8275-43f1-866c-4513bd8abf72",
   "metadata": {},
   "outputs": [],
   "source": [
    "# Model\n",
    "model = {\"model_description\": \"Random Forest: with PCAs + RBF kernel + Hyperparamter tuning\",\n",
    "         \"model_details\": str(hpt_rf_clf),\n",
    "         \"model_object\": hpt_rf_clf} \n",
    "\n",
    "with open(os.path.join(LOG_PATH, LOG_MODEL_PKL), \"wb\") as output_file:\n",
    "    pickle.dump(model, output_file)"
   ]
  },
  {
   "cell_type": "code",
   "execution_count": null,
   "id": "3986216b-c196-49d6-a7ee-cd0a0a02e71b",
   "metadata": {},
   "outputs": [],
   "source": [
    "# Preformance details\n",
    "classes_metrics = {\"train_scores\": train_scores, \n",
    "                   \"test_scores\":  test_scores}\n",
    "\n",
    "with open(os.path.join(LOG_PATH, LOG_METRICS_PKL), \"wb\") as output_file:\n",
    "    pickle.dump(classes_metrics, output_file)"
   ]
  },
  {
   "cell_type": "code",
   "execution_count": null,
   "id": "d85fd020-ac0c-40b9-b907-8d2acb05dc8a",
   "metadata": {},
   "outputs": [],
   "source": [
    "# Start a new run and track \n",
    "with mlflow.start_run(experiment_id=exp.experiment_id, \n",
    "                      run_name=model[\"model_description\"]):\n",
    "    # Log pickles\n",
    "    mlflow.log_artifacts(LOG_PATH)  \n",
    "    \n",
    "    # Track metrics \n",
    "    for metric, score in mean_test_scores.items():\n",
    "        mlflow.log_metric(metric, score) \n",
    "    "
   ]
  }
 ],
 "metadata": {
  "kernelspec": {
   "display_name": "Python 3",
   "language": "python",
   "name": "python3"
  },
  "language_info": {
   "codemirror_mode": {
    "name": "ipython",
    "version": 3
   },
   "file_extension": ".py",
   "mimetype": "text/x-python",
   "name": "python",
   "nbconvert_exporter": "python",
   "pygments_lexer": "ipython3",
   "version": "3.8.8"
  }
 },
 "nbformat": 4,
 "nbformat_minor": 5
}
