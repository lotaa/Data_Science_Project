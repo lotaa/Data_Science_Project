{
 "cells": [
  {
   "cell_type": "code",
   "execution_count": 1,
   "id": "b5d89760-4223-40b1-a825-a13f073f501f",
   "metadata": {},
   "outputs": [],
   "source": [
    "# Constants\n",
    "DATA_PATH   = \"../data/raw/survey_results_public.csv\"\n",
    "EXPORT_PATH = \"../data/processed/1_preprocessed_df.pkl\"\n",
    "\n",
    "REPLACE_DICT = {\n",
    "    'YearsCodePro': {'Less than 1 year': 0, 'More than 50 years': 51}, \n",
    "    'YearsCode':    {'Less than 1 year': 0, 'More than 50 years': 51}, \n",
    "    'Age1stCode':   {'Older than 85':86,    'Younger than 5 years':4}}"
   ]
  },
  {
   "cell_type": "code",
   "execution_count": 2,
   "id": "3a2c665c-ed21-4ce8-9e28-112a97668474",
   "metadata": {},
   "outputs": [],
   "source": [
    "# Load packages\n",
    "import pandas as pd \n",
    "import numpy as np\n",
    "import logging\n",
    "import pickle"
   ]
  },
  {
   "cell_type": "markdown",
   "id": "1a91f873-d85e-4268-a817-49f4d21724b0",
   "metadata": {},
   "source": [
    "### Functions"
   ]
  },
  {
   "cell_type": "code",
   "execution_count": 3,
   "id": "045813f1-62a5-482f-8d10-d74e36a41604",
   "metadata": {},
   "outputs": [],
   "source": [
    "def split_answers(data_series, delimiter=\";\"):\n",
    "    \"\"\" \n",
    "    Split multiple answers in a single string \n",
    "    to a list of single strings each represnting a single answers \n",
    "\n",
    "    Parameters:\n",
    "    * data_series (pd.Series): String series with answers \n",
    "    * delimiter (string): Another decimal integer \n",
    "                          Defaults to \";\"\n",
    "\n",
    "    Returns: (pd.Series): If column contains \n",
    "    \"\"\"\n",
    "    \n",
    "    # Sub functions \n",
    "    def is_splittable(pd_series, delimiter):\n",
    "        \"\"\" Check if results multiple should be splitted - Returns boolean \"\"\"    \n",
    "        return pd_series.str.contains(delimiter)\n",
    "    \n",
    "    def split_answer(pd_series, delimiter): \n",
    "        \"\"\"Function to split single answer\"\"\"\n",
    "        return pd_series.str.split(delimiter)\n",
    "    \n",
    "    # --------------------\n",
    "    \n",
    "    # Check if multiple answers exist - if none: return original \n",
    "    splittable_values = is_splittable(data_series, delimiter)\n",
    "    if not splittable_values.any():\n",
    "        return data_series\n",
    "    \n",
    "    # Else, split each value to a list \n",
    "    modified_series = split_answer(data_series, delimiter)    \n",
    "    \n",
    "    # Replace NAs with empty lists \n",
    "    mask_null = modified_series.isnull()\n",
    "    modified_series.loc[mask_null] = modified_series.loc[mask_null].apply(lambda x: [])\n",
    "    \n",
    "    return modified_series"
   ]
  },
  {
   "cell_type": "markdown",
   "id": "810cae79-31db-47fa-878c-54184813c497",
   "metadata": {},
   "source": [
    "### Processing\n",
    "## Preprocess Data"
   ]
  },
  {
   "cell_type": "code",
   "execution_count": 4,
   "id": "5f39daa4-fa98-4b59-adb4-dade132bf169",
   "metadata": {},
   "outputs": [],
   "source": [
    "raw_df = pd.read_csv(DATA_PATH)\n",
    "df1 = raw_df.copy()"
   ]
  },
  {
   "cell_type": "markdown",
   "id": "1ab8b40c-98ac-4def-be7a-9264fe479e74",
   "metadata": {},
   "source": [
    "### 1. Replace Values and parse\n"
   ]
  },
  {
   "cell_type": "code",
   "execution_count": 6,
   "id": "675d9d63-098e-487d-acfa-f44d71ea5ee3",
   "metadata": {},
   "outputs": [],
   "source": [
    "for col, replacement in REPLACE_DICT.items():\n",
    "    df1[col] = df1[col].replace(replacement).astype(np.float32)"
   ]
  },
  {
   "cell_type": "markdown",
   "id": "ba64f72a-150d-43ba-8af1-a39b5578bd7a",
   "metadata": {},
   "source": [
    "### 2. Split multiple answers"
   ]
  },
  {
   "cell_type": "code",
   "execution_count": 8,
   "id": "94f7bdc3-7374-4b07-9b43-829b2f6ca4d0",
   "metadata": {},
   "outputs": [],
   "source": [
    "object_cols = df1.select_dtypes(include='object').columns.tolist()\n",
    "for col in object_cols:\n",
    "    df1[col] = split_answers(df1[col])"
   ]
  },
  {
   "cell_type": "markdown",
   "id": "825ce7fb-ddb6-4303-9bf5-5889368d8004",
   "metadata": {},
   "source": [
    "# Export Data"
   ]
  },
  {
   "cell_type": "code",
   "execution_count": 10,
   "id": "3effcebd-7481-482a-b066-496ad52dd5fa",
   "metadata": {},
   "outputs": [
    {
     "data": {
      "text/plain": [
       "\"\\n    if I using 'to_csv', when I use data again I need to performce the same operation\\n\""
      ]
     },
     "execution_count": 10,
     "metadata": {},
     "output_type": "execute_result"
    }
   ],
   "source": [
    "df1.to_pickle(EXPORT_PATH)\n",
    "\"\"\"\n",
    "    if I using 'to_csv', when I use data again I need to performce the same operation\n",
    "\"\"\""
   ]
  }
 ],
 "metadata": {
  "kernelspec": {
   "display_name": "Python 3",
   "language": "python",
   "name": "python3"
  },
  "language_info": {
   "codemirror_mode": {
    "name": "ipython",
    "version": 3
   },
   "file_extension": ".py",
   "mimetype": "text/x-python",
   "name": "python",
   "nbconvert_exporter": "python",
   "pygments_lexer": "ipython3",
   "version": "3.8.8"
  }
 },
 "nbformat": 4,
 "nbformat_minor": 5
}
